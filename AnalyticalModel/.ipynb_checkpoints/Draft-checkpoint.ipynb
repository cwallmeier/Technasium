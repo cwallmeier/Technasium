{
 "cells": [
  {
   "cell_type": "code",
   "execution_count": 5,
   "id": "9f13b09d-b022-4aa5-beba-ddc672874a7c",
   "metadata": {},
   "outputs": [
    {
     "name": "stdout",
     "output_type": "stream",
     "text": [
      "Imports completed\n"
     ]
    }
   ],
   "source": [
    "# Import packages and functions\n",
    "from doublet import geoth_doub\n",
    "\n",
    "print('Imports completed')"
   ]
  },
  {
   "cell_type": "markdown",
   "id": "b07aa12d-4d0b-4708-a273-72345d2792c2",
   "metadata": {},
   "source": [
    "# \"Creating\" the doublet\n",
    "In the next block of code, we will \"create\" the geothermal doublet. \n",
    "First, we define all the parameters that describe the doublet itself and the geolocigal and technical conditions in which it operates. \n",
    "Then we call the function *geoth_doub* (which we imported in cell 1). \n",
    "\n",
    "To be exact, geoth_doub() can take more parameters than the ones we define below. Check out the file doublet.py to find the whole list. But as long as we don't tell geoth_doub() which values to use, it will stick to standard values. So for simplicity, that's what we'll do."
   ]
  },
  {
   "cell_type": "code",
   "execution_count": 6,
   "id": "70bf87b8-dbe0-49d8-9c46-624c78f37e30",
   "metadata": {},
   "outputs": [
    {
     "name": "stdout",
     "output_type": "stream",
     "text": [
      "Doublet created\n"
     ]
    }
   ],
   "source": [
    "# reservoir depth. The top of the reservoir in m below the surface.\n",
    "res_depth = 2300\n",
    "\n",
    "# reservoir permeability in mD\n",
    "res_perm = 300\n",
    "\n",
    "# well spacing. The distance between injector and producer in m\n",
    "ws = 830\n",
    "\n",
    "# injection temperature. the temperature (in deg Celsius) of the cold water that is being re-injected.\n",
    "injT = 32\n",
    "\n",
    "# And create the doublet object! (In the parenthesis we tell the functions which values to use.\n",
    "doub1 = geoth_doub(r_d = res_depth,\n",
    "                  k_mD = res_perm,\n",
    "                  w_space = ws,\n",
    "                  T_inj = injT)\n",
    "\n",
    "\n",
    "print('Doublet created')"
   ]
  },
  {
   "cell_type": "markdown",
   "id": "59c3aec5-ab8d-4e99-a92f-ed719c2af3d3",
   "metadata": {},
   "source": [
    "# Calculations\n",
    "Now we will look at the physics of the doublet. We will calculate what happens in three steps:\n",
    "\n",
    "1. Pressure difference between inlet and outlet.\n",
    "2. Velocity of the cold front.\n",
    "3. Time of thermal breakthrough. This is the time after which cold water, which has been re-injected into the reservoir, reaches the producer well. This may also be referred to as lifetime, even though technically, a tiny drop in temperature does not have to mean that a doublet can no longer be used."
   ]
  },
  {
   "cell_type": "code",
   "execution_count": 7,
   "id": "1a7654f4-9d46-477f-bcd8-2fd132930dee",
   "metadata": {},
   "outputs": [
    {
     "ename": "TypeError",
     "evalue": "'float' object is not callable",
     "output_type": "error",
     "traceback": [
      "\u001b[0;31m---------------------------------------------------------------------------\u001b[0m",
      "\u001b[0;31mTypeError\u001b[0m                                 Traceback (most recent call last)",
      "Cell \u001b[0;32mIn[7], line 8\u001b[0m\n\u001b[1;32m      5\u001b[0m v_cold \u001b[38;5;241m=\u001b[39m doub1\u001b[38;5;241m.\u001b[39mv_coldfront()\n\u001b[1;32m      7\u001b[0m \u001b[38;5;66;03m# breakthrough\u001b[39;00m\n\u001b[0;32m----> 8\u001b[0m t_cold \u001b[38;5;241m=\u001b[39m \u001b[43mdoub1\u001b[49m\u001b[38;5;241;43m.\u001b[39;49m\u001b[43mt_breakthrough\u001b[49m\u001b[43m(\u001b[49m\u001b[43m)\u001b[49m\n",
      "File \u001b[0;32m~/Documents/TeachingAlex/Technasium/AnalyticalModel/doublet.py:149\u001b[0m, in \u001b[0;36mgeoth_doub.t_breakthrough\u001b[0;34m(self)\u001b[0m\n\u001b[1;32m    143\u001b[0m \u001b[38;5;28;01mdef\u001b[39;00m \u001b[38;5;21mt_breakthrough\u001b[39m(\u001b[38;5;28mself\u001b[39m):\n\u001b[1;32m    144\u001b[0m \u001b[38;5;250m    \u001b[39m\u001b[38;5;124;03m\"\"\"\u001b[39;00m\n\u001b[1;32m    145\u001b[0m \u001b[38;5;124;03m    Option 1 for time of thermal breakthrough in years.\u001b[39;00m\n\u001b[1;32m    146\u001b[0m \u001b[38;5;124;03m    Assumes parallel flow from producer to injector, with cold front moving as a flat surface that covers the entire\u001b[39;00m\n\u001b[1;32m    147\u001b[0m \u001b[38;5;124;03m    (rectancular) cross-section of the reservoir\u001b[39;00m\n\u001b[1;32m    148\u001b[0m \u001b[38;5;124;03m    \"\"\"\u001b[39;00m\n\u001b[0;32m--> 149\u001b[0m     \u001b[38;5;28mself\u001b[39m\u001b[38;5;241m.\u001b[39mt_cold_yrs \u001b[38;5;241m=\u001b[39m \u001b[38;5;28mself\u001b[39m\u001b[38;5;241m.\u001b[39mw_space \u001b[38;5;241m/\u001b[39m (\u001b[38;5;28;43mself\u001b[39;49m\u001b[38;5;241;43m.\u001b[39;49m\u001b[43mv_cfront\u001b[49m\u001b[43m(\u001b[49m\u001b[43m)\u001b[49m \u001b[38;5;241m*\u001b[39m \u001b[38;5;241m365\u001b[39m \u001b[38;5;241m*\u001b[39m \u001b[38;5;241m24\u001b[39m \u001b[38;5;241m*\u001b[39m \u001b[38;5;241m60\u001b[39m \u001b[38;5;241m*\u001b[39m \u001b[38;5;241m60\u001b[39m)\n\u001b[1;32m    151\u001b[0m     \u001b[38;5;28;01mreturn\u001b[39;00m \u001b[38;5;28mself\u001b[39m\u001b[38;5;241m.\u001b[39mt_cold_yrs\n",
      "\u001b[0;31mTypeError\u001b[0m: 'float' object is not callable"
     ]
    }
   ],
   "source": [
    "# Pressure difference\n",
    "dp = doub1.dp_wells()\n",
    "\n",
    "# Cold front velocity\n",
    "v_cold = doub1.v_coldfront()\n",
    "\n",
    "# breakthrough\n",
    "t_cold = doub1.t_breakthrough()"
   ]
  },
  {
   "cell_type": "code",
   "execution_count": null,
   "id": "6f4395e9-3339-4b82-b826-ef6d79a44fe3",
   "metadata": {},
   "outputs": [],
   "source": []
  },
  {
   "cell_type": "code",
   "execution_count": null,
   "id": "5f5524ae-4c44-46c1-bce1-c30fcce2a63f",
   "metadata": {},
   "outputs": [],
   "source": []
  }
 ],
 "metadata": {
  "kernelspec": {
   "display_name": "Python 3 (ipykernel)",
   "language": "python",
   "name": "python3"
  },
  "language_info": {
   "codemirror_mode": {
    "name": "ipython",
    "version": 3
   },
   "file_extension": ".py",
   "mimetype": "text/x-python",
   "name": "python",
   "nbconvert_exporter": "python",
   "pygments_lexer": "ipython3",
   "version": "3.11.9"
  }
 },
 "nbformat": 4,
 "nbformat_minor": 5
}
