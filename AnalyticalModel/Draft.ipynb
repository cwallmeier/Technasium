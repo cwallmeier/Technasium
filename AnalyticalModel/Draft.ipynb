{
 "cells": [
  {
   "cell_type": "markdown",
   "id": "3683edf6-7e58-4f6e-a4b3-ff40da30f348",
   "metadata": {},
   "source": [
    "# About this jupyter notebook\n",
    "\n",
    "## Jupyter Notebook\n",
    "- this is a jupyter notebook\n",
    "- it consists of text cells (like the cell you're reading right now) and code cells\n",
    "  - the code cells are written in the python programming language\n",
    "- you can execute a cell by\n",
    "  - clicking into it and pressing Shift + Enter or\n",
    "  - klicking the \"play\" symbol at the top\n",
    "\n",
    "## Making changes\n",
    "- Unfortunately, any changes you make to this notebook will NOT be saved when closing it\n",
    "- The easiest solution is to copy the code you write to a .txt-file (Word might destroy the formatting) and paste it when you continue working\n",
    "\n",
    "## The other files\n",
    "- Clicking the folder icon on the left will open (surprise) the folder that this notebook lives in\n",
    "- the other file *doublet.py* contains the equations used in this notebook.\n",
    "  - you can do this entire exercise without looking into *doublet.py*\n",
    "  - but feel free to open it and explore\n",
    "  - Since nothing is saved, even if you break something, you can simply open the link in a fresh window\n",
    "\n",
    "## Trouble shooting\n",
    "- if you changed something\n",
    "- and for some reason, the result is the same as before. Or not what you think it should be:\n",
    "- Sometimes the Notebook remembers something it should not remember -> Try right clicking into a cell and choose *Restart Kernel*\n",
    "\n",
    "    \n"
   ]
  },
  {
   "cell_type": "code",
   "execution_count": 3,
   "id": "9f13b09d-b022-4aa5-beba-ddc672874a7c",
   "metadata": {},
   "outputs": [
    {
     "name": "stdout",
     "output_type": "stream",
     "text": [
      "Imports completed\n"
     ]
    }
   ],
   "source": [
    "# Import standard packages to handle maths\n",
    "import numpy as np\n",
    "# Import the class \"doublet\" which knows how to calculate everything we need\n",
    "from doublet import geoth_doub\n",
    "\n",
    "\n",
    "print('Imports completed')"
   ]
  },
  {
   "cell_type": "markdown",
   "id": "b07aa12d-4d0b-4708-a273-72345d2792c2",
   "metadata": {},
   "source": [
    "# \"Creating\" the doublet\n",
    "In the next block of code, we will \"create\" the geothermal doublet. \n",
    "First, we define all the parameters that describe the doublet itself and the geolocigal and technical conditions in which it operates. \n",
    "Then we call the function *geoth_doub* (which we imported in cell 1). \n",
    "\n",
    "To be exact, geoth_doub() can take more parameters than the ones we define below. Check out the file doublet.py to find the whole list. But as long as we don't tell geoth_doub() which values to use, it will stick to standard values. So for simplicity, that's what we'll do."
   ]
  },
  {
   "cell_type": "code",
   "execution_count": 4,
   "id": "70bf87b8-dbe0-49d8-9c46-624c78f37e30",
   "metadata": {},
   "outputs": [
    {
     "name": "stdout",
     "output_type": "stream",
     "text": [
      "Doublet created\n"
     ]
    }
   ],
   "source": [
    "# reservoir depth. The top of the reservoir in m below the surface.\n",
    "res_depth = 2300\n",
    "\n",
    "# reservoir permeability in mD\n",
    "res_perm = 300\n",
    "\n",
    "# well spacing. The distance between injector and producer in m\n",
    "ws = 830\n",
    "\n",
    "# injection temperature. the temperature (in deg Celsius) of the cold water that is being re-injected.\n",
    "injT = 32\n",
    "\n",
    "# And create the doublet object! (In the parenthesis we tell the functions which values to use.\n",
    "doub1 = geoth_doub(r_d=res_depth, k_mD=res_perm, w_space=ws, T_inj=injT)\n",
    "\n",
    "\n",
    "print('Doublet created')"
   ]
  },
  {
   "cell_type": "markdown",
   "id": "59c3aec5-ab8d-4e99-a92f-ed719c2af3d3",
   "metadata": {},
   "source": [
    "# Calculations\n",
    "Now we will look at the physics of the doublet. We will look at what happens in three steps*:\n",
    "\n",
    "1. Pressure difference between inlet and outlet.\n",
    "2. Velocity of the cold front.\n",
    "3. Time of thermal breakthrough. (This is the time after which cold water, which has been re-injected into the reservoir, reaches the producer well. This may also be referred to as lifetime, even though technically, a tiny drop in temperature does not have to mean that a doublet can no longer be used.)\n",
    "\n",
    "\\* Disclaimer: We don't have to do these steps in this order. We could do step 3 directly, and let doublet.py handle everything in between. But by running and printing these 3 steps, we can follow the calculation and make sure it all seems reasonable."
   ]
  },
  {
   "cell_type": "code",
   "execution_count": 10,
   "id": "1a7654f4-9d46-477f-bcd8-2fd132930dee",
   "metadata": {},
   "outputs": [
    {
     "name": "stdout",
     "output_type": "stream",
     "text": [
      "Pressure difference between producer and injector:\n",
      "1.51 MPa\n",
      "\n",
      "Velocity of the coldfront:\n",
      "1.55e-06 m/s\n",
      "\n",
      "Time of thermal breakthrough:\n",
      "16.99 years\n"
     ]
    }
   ],
   "source": [
    "# Pressure difference\n",
    "dp = doub1.dp_wells()\n",
    "print('Pressure difference between producer and injector:\\n' + str(round(dp, 2)) + ' MPa')\n",
    "\n",
    "# Cold front velocity\n",
    "v_cold = doub1.v_coldfront()\n",
    "print('\\nVelocity of the coldfront:\\n' + str(round(v_cold, 8)) + ' m/s')\n",
    "\n",
    "# breakthrough\n",
    "t_cold = doub1.t_breakthrough()\n",
    "print('\\nTime of thermal breakthrough:\\n' + str(round(t_cold, 2)) + ' years')"
   ]
  },
  {
   "cell_type": "markdown",
   "id": "d7921c06-e8f0-4835-b9cc-90863803a738",
   "metadata": {},
   "source": [
    "# More Calculations\n",
    "With the physics done, we can calculate how much power the doublet produces. \n",
    "\n",
    "1. Let p_in be the power that is required to operate the doublet. The main power-eaters are the pumps that move the water to the surface and back down.\n",
    "2. Let p_out be the power produced by the doublet. The (simplified) idea here is that the power (power = energy/time) is constant over the entire lifetime of the doublet. This could mean that, if lifetime = 42 years, our doublet will continuosly produce X MWh for 42 years. After that, its output will reduce or it will simply be switched off.\n",
    "3. Let p_net be p_out - p_in. This is the net \"additional\" power provided by the doublet. Hopefully, this number will be big!"
   ]
  },
  {
   "cell_type": "code",
   "execution_count": 12,
   "id": "5f5524ae-4c44-46c1-bce1-c30fcce2a63f",
   "metadata": {
    "scrolled": true
   },
   "outputs": [
    {
     "name": "stdout",
     "output_type": "stream",
     "text": [
      "\n",
      "Power consumed by the doublet:\n",
      "0.14 MW\n",
      "\n",
      "Power produced by the doublet:\n",
      "9.7 MW\n",
      "\n",
      "Net power produced:\n",
      "9.56 MW\n"
     ]
    }
   ],
   "source": [
    "# how much power (in MWh) is needed?\n",
    "p_in = doub1.p_pumps()\n",
    "print('\\nPower consumed by the doublet:\\n' + str(round(p_in, 2)) + ' MW')\n",
    "\n",
    "# and how muchpower (in MWh) do we get out?\n",
    "p_out = doub1.p_doublet()\n",
    "print('\\nPower produced by the doublet:\\n' + str(round(p_out, 2)) + ' MW')\n",
    "\n",
    "# net\n",
    "p_net = p_out - p_in\n",
    "print('\\nNet power produced:\\n' + str(round(p_net, 2)) + ' MW')\n",
    "    "
   ]
  },
  {
   "cell_type": "markdown",
   "id": "2f73fc19-c2be-43f2-8779-20f4f800d7b4",
   "metadata": {},
   "source": [
    "# Some inspiration"
   ]
  },
  {
   "cell_type": "code",
   "execution_count": 18,
   "id": "e345a87c-622c-4058-a842-ec7a6058c6ea",
   "metadata": {},
   "outputs": [
    {
     "name": "stdout",
     "output_type": "stream",
     "text": [
      "List of permeabilities: [200 250 300 350 400 450 500 550 600]\n",
      "List of well spacings: [ 300  400  500  600  700  800  900 1000 1100]\n",
      "Matrix of breakthrough times:\n",
      "[[ 6.14  8.19 10.23 12.28 14.33 16.37 18.42 20.47 22.52]\n",
      " [ 6.14  8.19 10.23 12.28 14.33 16.37 18.42 20.47 22.52]\n",
      " [ 6.14  8.19 10.23 12.28 14.33 16.37 18.42 20.47 22.52]\n",
      " [ 6.14  8.19 10.23 12.28 14.33 16.37 18.42 20.47 22.52]\n",
      " [ 6.14  8.19 10.23 12.28 14.33 16.37 18.42 20.47 22.52]\n",
      " [ 6.14  8.19 10.23 12.28 14.33 16.37 18.42 20.47 22.52]\n",
      " [ 6.14  8.19 10.23 12.28 14.33 16.37 18.42 20.47 22.52]\n",
      " [ 6.14  8.19 10.23 12.28 14.33 16.37 18.42 20.47 22.52]\n",
      " [ 6.14  8.19 10.23 12.28 14.33 16.37 18.42 20.47 22.52]]\n"
     ]
    }
   ],
   "source": [
    "# reservoir depth. The top of the reservoir in m below the surface.\n",
    "res_depth = 2300\n",
    "\n",
    "# reservoir permeability in mD\n",
    "res_perm = np.arange(200, 650, 50)\n",
    "print('List of permeabilities: ' + str(res_perm))\n",
    "\n",
    "# well spacing. The distance between injector and producer in m\n",
    "ws = np.arange(300, 1200, 100)\n",
    "print('List of well spacings: ' + str(ws))\n",
    "\n",
    "# injection temperature. the temperature (in deg Celsius) of the cold water that is being re-injected.\n",
    "injT = 32\n",
    "\n",
    "# calculate breakthrough time for every combination\n",
    "breakthrough = np.empty((len(res_perm), len(ws)))\n",
    "\n",
    "for count1, this_res_perm in enumerate(res_perm):\n",
    "    for count2, that_ws in enumerate(ws):\n",
    "        one_doublet = geoth_doub(r_d=res_depth, k_mD=this_res_perm, w_space=that_ws, T_inj=injT)\n",
    "        one_breakthrough = one_doublet.t_breakthrough()\n",
    "        breakthrough[count1, count2] = one_breakthrough\n",
    "        \n",
    "print('Matrix of breakthrough times:\\n' +\n",
    "     str(np.round(breakthrough, 2)))"
   ]
  },
  {
   "cell_type": "code",
   "execution_count": null,
   "id": "17be3eb2-87e9-48c6-96e4-bab7fe14bc9c",
   "metadata": {},
   "outputs": [],
   "source": []
  }
 ],
 "metadata": {
  "kernelspec": {
   "display_name": "Python 3 (ipykernel)",
   "language": "python",
   "name": "python3"
  },
  "language_info": {
   "codemirror_mode": {
    "name": "ipython",
    "version": 3
   },
   "file_extension": ".py",
   "mimetype": "text/x-python",
   "name": "python",
   "nbconvert_exporter": "python",
   "pygments_lexer": "ipython3",
   "version": "3.11.9"
  }
 },
 "nbformat": 4,
 "nbformat_minor": 5
}
