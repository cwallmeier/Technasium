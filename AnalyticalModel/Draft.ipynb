{
 "cells": [
  {
   "cell_type": "code",
   "execution_count": 1,
   "id": "9f13b09d-b022-4aa5-beba-ddc672874a7c",
   "metadata": {},
   "outputs": [
    {
     "name": "stdout",
     "output_type": "stream",
     "text": [
      "Imports completed\n"
     ]
    }
   ],
   "source": [
    "# Import packages and functions\n",
    "from doublet import geoth_doub\n",
    "\n",
    "print('Imports completed')"
   ]
  },
  {
   "cell_type": "markdown",
   "id": "b07aa12d-4d0b-4708-a273-72345d2792c2",
   "metadata": {},
   "source": [
    "# \"Creating\" the doublet\n",
    "In the next block of code, we will \"create\" the geothermal doublet. \n",
    "First, we define all the parameters that describe the doublet itself and the geolocigal and technical conditions in which it operates. \n",
    "Then we call the function *geoth_doub* (which we imported in cell 1). \n",
    "\n",
    "To be exact, geoth_doub() can take more parameters than the ones we define below. Check out the file doublet.py to find the whole list. But as long as we don't tell geoth_doub() which values to use, it will stick to standard values. So for simplicity, that's what we'll do."
   ]
  },
  {
   "cell_type": "code",
   "execution_count": 2,
   "id": "70bf87b8-dbe0-49d8-9c46-624c78f37e30",
   "metadata": {},
   "outputs": [
    {
     "name": "stdout",
     "output_type": "stream",
     "text": [
      "Doublet created\n"
     ]
    }
   ],
   "source": [
    "# reservoir depth. The top of the reservoir in m below the surface.\n",
    "res_depth = 2300\n",
    "\n",
    "# reservoir permeability in mD\n",
    "res_perm = 300\n",
    "\n",
    "# well spacing. The distance between injector and producer in m\n",
    "ws = 830\n",
    "\n",
    "# injection temperature. the temperature (in deg Celsius) of the cold water that is being re-injected.\n",
    "injT = 32\n",
    "\n",
    "# And create the doublet object! (In the parenthesis we tell the functions which values to use.\n",
    "doub1 = geoth_doub(r_d = res_depth,\n",
    "                  k_mD = res_perm,\n",
    "                  w_space = ws,\n",
    "                  T_inj = injT)\n",
    "\n",
    "\n",
    "print('Doublet created')"
   ]
  },
  {
   "cell_type": "markdown",
   "id": "59c3aec5-ab8d-4e99-a92f-ed719c2af3d3",
   "metadata": {},
   "source": [
    "# Calculations\n",
    "Now we will look at the physics of the doublet. We will look at what happens in three steps:\n",
    "\n",
    "1. Pressure difference between inlet and outlet.\n",
    "2. Velocity of the cold front.\n",
    "3. Time of thermal breakthrough. (This is the time after which cold water, which has been re-injected into the reservoir, reaches the producer well. This may also be referred to as lifetime, even though technically, a tiny drop in temperature does not have to mean that a doublet can no longer be used.)"
   ]
  },
  {
   "cell_type": "code",
   "execution_count": 3,
   "id": "1a7654f4-9d46-477f-bcd8-2fd132930dee",
   "metadata": {},
   "outputs": [],
   "source": [
    "# Pressure difference\n",
    "dp = doub1.dp_wells()\n",
    "\n",
    "# Cold front velocity\n",
    "v_cold = doub1.v_coldfront()\n",
    "\n",
    "# breakthrough\n",
    "t_cold = doub1.t_breakthrough()"
   ]
  },
  {
   "cell_type": "markdown",
   "id": "d7921c06-e8f0-4835-b9cc-90863803a738",
   "metadata": {},
   "source": [
    "# More Calculations\n",
    "These are the physics, but what can we actually do with that doublet? To find out, we will calculate two more things:\n",
    "\n",
    "1. The power that is required to operate the doublet. The main power-eaters are the pumps that move the water to the surface and back down.\n",
    "2. The power output of the doublet. Hopefully, this second values is bigger than the first, so that the geothermal doublet produces more than it consumes.\n",
    "\n",
    "The (simplified) idea here is that the power output (power = energy/time) is constant over the entire lifetime of the doublet. This could mean that, if lifetime = 42 years, our doublet will produce XYZ MWh for 42 years. After that, its output will reduce or it will simply be switched off."
   ]
  },
  {
   "cell_type": "code",
   "execution_count": 4,
   "id": "5f5524ae-4c44-46c1-bce1-c30fcce2a63f",
   "metadata": {},
   "outputs": [],
   "source": [
    "# how much power (in MWh) is needed?\n",
    "power_in = doub1.p_pumps()\n",
    "\n",
    "# and how muchpower (in MWh) do we get out?\n",
    "power_out = doub1.p_doublet()"
   ]
  },
  {
   "cell_type": "code",
   "execution_count": null,
   "id": "00706491-8285-424f-9e95-10624161c1f8",
   "metadata": {},
   "outputs": [],
   "source": []
  }
 ],
 "metadata": {
  "kernelspec": {
   "display_name": "Python 3 (ipykernel)",
   "language": "python",
   "name": "python3"
  },
  "language_info": {
   "codemirror_mode": {
    "name": "ipython",
    "version": 3
   },
   "file_extension": ".py",
   "mimetype": "text/x-python",
   "name": "python",
   "nbconvert_exporter": "python",
   "pygments_lexer": "ipython3",
   "version": "3.11.9"
  }
 },
 "nbformat": 4,
 "nbformat_minor": 5
}
