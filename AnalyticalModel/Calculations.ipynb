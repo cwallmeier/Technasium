{
 "cells": [
  {
   "cell_type": "markdown",
   "id": "3683edf6-7e58-4f6e-a4b3-ff40da30f348",
   "metadata": {},
   "source": [
    "# About this jupyter notebook\n",
    "\n",
    "## Jupyter Notebook\n",
    "- this is a jupyter notebook\n",
    "- it consists of text cells (like the cell you're reading right now) and code cells\n",
    "  - the code cells are written in the python programming language\n",
    "- you can execute a cell by\n",
    "  - clicking into it and pressing Shift + Enter or\n",
    "  - klicking the \"play\" symbol at the top\n",
    "\n",
    "## Making changes\n",
    "- Unfortunately, any changes you make to this notebook will NOT be saved when closing it\n",
    "- The easiest solution is to copy the code you write to a .txt-file (Word might destroy the formatting) and paste it when you continue working\n",
    "\n",
    "## The other files\n",
    "- Clicking the folder icon on the left will open (surprise) the folder that this notebook lives in\n",
    "- the other file *doublet.py* contains the equations used in this notebook.\n",
    "  - you can do this entire exercise without looking into *doublet.py*\n",
    "  - but feel free to open it and explore\n",
    "  - Since nothing is saved, even if you break something, you can simply open the link in a fresh window\n",
    "\n",
    "## Trouble shooting\n",
    "- if you changed something\n",
    "- and for some reason, the result is the same as before. Or not what you think it should be:\n",
    "- Sometimes the Notebook remembers something it should not remember -> Try right clicking into a cell and choose *Restart Kernel*\n",
    "\n",
    "    \n"
   ]
  },
  {
   "cell_type": "code",
   "execution_count": 1,
   "id": "9f13b09d-b022-4aa5-beba-ddc672874a7c",
   "metadata": {},
   "outputs": [
    {
     "name": "stdout",
     "output_type": "stream",
     "text": [
      "Imports completed\n"
     ]
    }
   ],
   "source": [
    "# Import standard packages to handle maths and graphics\n",
    "import numpy as np\n",
    "import matplotlib.pyplot as plt\n",
    "# Import the class \"doublet\" which knows how to calculate everything we need\n",
    "from doublet import geoth_doub\n",
    "\n",
    "\n",
    "print('Imports completed')"
   ]
  },
  {
   "cell_type": "markdown",
   "id": "b07aa12d-4d0b-4708-a273-72345d2792c2",
   "metadata": {},
   "source": [
    "# \"Creating\" the doublet\n",
    "In the next block of code, we will \"create\" the geothermal doublet. \n",
    "First, we define all the parameters that describe the doublet itself and the geolocigal and technical conditions in which it operates. \n",
    "Then we call the function *geoth_doub* (which we imported in cell 1). \n",
    "\n",
    "To be exact, geoth_doub() can take more parameters than the ones we define below. Check out the file doublet.py to find the whole list. But as long as we don't tell geoth_doub() which values to use, it will stick to standard values. So for simplicity, that's what we'll do."
   ]
  },
  {
   "cell_type": "code",
   "execution_count": 2,
   "id": "70bf87b8-dbe0-49d8-9c46-624c78f37e30",
   "metadata": {},
   "outputs": [
    {
     "name": "stdout",
     "output_type": "stream",
     "text": [
      "Doublet created\n"
     ]
    }
   ],
   "source": [
    "# reservoir depth. The top of the reservoir in m below the surface.\n",
    "res_depth = 2300\n",
    "\n",
    "# reservoir porosity as a fraction of 1\n",
    "res_poro = 0.1\n",
    "\n",
    "# well spacing. The distance between injector and producer in m\n",
    "ws = 830\n",
    "\n",
    "# injection temperature. the temperature (in deg Celsius) of the cold water that is being re-injected.\n",
    "injT = 32\n",
    "\n",
    "# And create the doublet object! (In the parenthesis we tell the functions which values to use.\n",
    "doub1 = geoth_doub(r_d=res_depth, phi=res_poro, w_space=ws, T_inj=injT)\n",
    "\n",
    "\n",
    "print('Doublet created')"
   ]
  },
  {
   "cell_type": "markdown",
   "id": "59c3aec5-ab8d-4e99-a92f-ed719c2af3d3",
   "metadata": {},
   "source": [
    "# Calculations\n",
    "Now we will look at the physics of the doublet. We will look at what happens in three steps*:\n",
    "\n",
    "1. Pressure difference between inlet and outlet.\n",
    "2. Velocity of the cold front.\n",
    "3. Time of thermal breakthrough. (This is the time after which cold water, which has been re-injected into the reservoir, reaches the producer well. This may also be referred to as lifetime, even though technically, a tiny drop in temperature does not have to mean that a doublet can no longer be used.)\n",
    "\n",
    "\\* Disclaimer: We don't have to do these steps in this order. We could do step 3 directly, and let doublet.py handle everything in between. But by running and printing these 3 steps, we can follow the calculation and make sure it all seems reasonable."
   ]
  },
  {
   "cell_type": "code",
   "execution_count": 3,
   "id": "1a7654f4-9d46-477f-bcd8-2fd132930dee",
   "metadata": {},
   "outputs": [
    {
     "name": "stdout",
     "output_type": "stream",
     "text": [
      "Pressure difference between producer and injector:\n",
      "1.51 MPa\n",
      "\n",
      "Velocity of the coldfront:\n",
      "1.61e-06 m/s\n",
      "\n",
      "Time of thermal breakthrough:\n",
      "16.37 years\n"
     ]
    }
   ],
   "source": [
    "# Pressure difference\n",
    "dp = doub1.dp_wells()\n",
    "print('Pressure difference between producer and injector:\\n' + str(round(dp, 2)) + ' MPa')\n",
    "\n",
    "# Cold front velocity\n",
    "v_cold = doub1.v_coldfront()\n",
    "print('\\nVelocity of the coldfront:\\n' + str(round(v_cold, 8)) + ' m/s')\n",
    "\n",
    "# breakthrough\n",
    "t_cold = doub1.t_breakthrough()\n",
    "print('\\nTime of thermal breakthrough:\\n' + str(round(t_cold, 2)) + ' years')"
   ]
  },
  {
   "cell_type": "markdown",
   "id": "d7921c06-e8f0-4835-b9cc-90863803a738",
   "metadata": {},
   "source": [
    "# More Calculations\n",
    "With the physics done, we can calculate how much power the doublet produces. \n",
    "\n",
    "1. Let p_in be the power that is required to operate the doublet. The main power-eaters are the pumps that move the water to the surface and back down.\n",
    "2. Let p_out be the power produced by the doublet. The (simplified) idea here is that the power (power = energy/time) is constant over the entire lifetime of the doublet. This could mean that, if lifetime = 42 years, our doublet will continuosly produce X MWh for 42 years. After that, its output will reduce or it will simply be switched off.\n",
    "3. Let p_net be p_out - p_in. This is the net \"additional\" power provided by the doublet. Hopefully, this number will be big!"
   ]
  },
  {
   "cell_type": "code",
   "execution_count": 4,
   "id": "5f5524ae-4c44-46c1-bce1-c30fcce2a63f",
   "metadata": {
    "scrolled": true
   },
   "outputs": [
    {
     "name": "stdout",
     "output_type": "stream",
     "text": [
      "\n",
      "Power consumed by the doublet:\n",
      "0.14 MW\n",
      "\n",
      "Power produced by the doublet:\n",
      "9.7 MW\n",
      "\n",
      "Net power produced:\n",
      "9.56 MW\n"
     ]
    }
   ],
   "source": [
    "# how much power (in MWh) is needed?\n",
    "p_in = doub1.p_pumps()\n",
    "print('\\nPower consumed by the doublet:\\n' + str(round(p_in, 2)) + ' MW')\n",
    "\n",
    "# and how muchpower (in MWh) do we get out?\n",
    "p_out = doub1.p_doublet()\n",
    "print('\\nPower produced by the doublet:\\n' + str(round(p_out, 2)) + ' MW')\n",
    "\n",
    "# net\n",
    "p_net = p_out - p_in\n",
    "print('\\nNet power produced:\\n' + str(round(p_net, 2)) + ' MW')\n",
    "    "
   ]
  },
  {
   "cell_type": "markdown",
   "id": "2f73fc19-c2be-43f2-8779-20f4f800d7b4",
   "metadata": {},
   "source": [
    "# Some inspiration\n",
    "Above are the basics. Below is some inspiration on how multiple datapoints can be combined to visualize the relationships between them and the output values we're interested in."
   ]
  },
  {
   "cell_type": "code",
   "execution_count": 9,
   "id": "e345a87c-622c-4058-a842-ec7a6058c6ea",
   "metadata": {},
   "outputs": [
    {
     "name": "stdout",
     "output_type": "stream",
     "text": [
      "List of porosities: 0.1\n",
      "List of well spacings: [ 300  400  500  600  700  800  900 1000 1100 1200]\n",
      "Array of breakthrough times:\n",
      "[[ 5.51  7.35  9.19 11.03 12.87 14.71 16.54 18.38 20.22 22.06]\n",
      " [ 5.65  7.53  9.41 11.3  13.18 15.06 16.95 18.83 20.71 22.6 ]\n",
      " [ 5.78  7.71  9.64 11.57 13.49 15.42 17.35 19.28 21.2  23.13]\n",
      " [ 5.92  7.89  9.86 11.83 13.81 15.78 17.75 19.72 21.7  23.67]\n",
      " [ 6.05  8.07 10.09 12.1  14.12 16.14 18.15 20.17 22.19 24.2 ]\n",
      " [ 6.19  8.25 10.31 12.37 14.43 16.49 18.56 20.62 22.68 24.74]\n",
      " [ 6.32  8.43 10.53 12.64 14.75 16.85 18.96 21.06 23.17 25.28]\n",
      " [ 6.45  8.6  10.76 12.91 15.06 17.21 19.36 21.51 23.66 25.81]\n",
      " [ 6.59  8.78 10.98 13.18 15.37 17.57 19.76 21.96 24.15 26.35]\n",
      " [ 6.72  8.96 11.2  13.44 15.68 17.92 20.17 22.41 24.65 26.89]]\n"
     ]
    },
    {
     "data": {
      "text/plain": [
       "<matplotlib.colorbar.Colorbar at 0x75c2f882e410>"
      ]
     },
     "execution_count": 9,
     "metadata": {},
     "output_type": "execute_result"
    },
    {
     "data": {
      "image/png": "[encoded data removed]",
      "text/plain": [
       "<Figure size 640x480 with 2 Axes>"
      ]
     },
     "metadata": {},
     "output_type": "display_data"
    }
   ],
   "source": [
    "# reservoir depth. The top of the reservoir in m below the surface.\n",
    "res_depth = 2300\n",
    "\n",
    "# reservoir porosity as fraction of 1\n",
    "poro_min = 0.01\n",
    "poro_max = 0.31\n",
    "poro_step = 0.03\n",
    "poro = np.arange(poro_min, poro_max, poro_step)\n",
    "print('List of porosities: ' + str(res_poro))\n",
    "\n",
    "# well spacing. The distance between injector and producer in m\n",
    "ws_min = 300\n",
    "ws_max = 1200\n",
    "ws_step = 100\n",
    "ws = np.arange(ws_min, ws_max+1, ws_step)\n",
    "print('List of well spacings: ' + str(ws))\n",
    "\n",
    "# injection temperature. the temperature (in deg Celsius) of the cold water that is being re-injected.\n",
    "injT = 32\n",
    "\n",
    "# We want to calculate breakthrough time for every combination.\n",
    "# So first, create an empty array in which we can later store all the values\n",
    "breakthrough = np.empty((len(poro), len(ws)))\n",
    "\n",
    "# Then for-loop over all combinations and calculate breakthrough time for each\n",
    "for count1, this_poro in enumerate(poro):\n",
    "    for count2, that_ws in enumerate(ws):\n",
    "        # doublet, using porosity and spacing of this iteration\n",
    "        one_doublet = geoth_doub(r_d=res_depth, phi=this_poro, w_space=that_ws, T_inj=injT)\n",
    "        # call function for breakthrough time\n",
    "        one_breakthrough = one_doublet.t_breakthrough()\n",
    "        # rounnd that value and save it in the array we prepared earlier\n",
    "        breakthrough[count1, count2] = np.round(one_breakthrough, 2)\n",
    "\n",
    "# A first look at the numbers\n",
    "print('Array of breakthrough times:\\n' +\n",
    "     str(breakthrough))\n",
    "\n",
    "# And a prettier visualisation\n",
    "plot1 = plt.imshow(breakthrough, origin='lower', extent=(ws_min-ws_step/2, ws_max+ws_step/2,\n",
    "                                                 poro_min-poro_step/2, poro_max+poro_step/2), aspect='auto',\n",
    "                  cmap='plasma')\n",
    "plt.xlabel('well spacing in m')\n",
    "plt.ylabel('porosity')\n",
    "plt.colorbar(plot1, label='breakthrough time in years')"
   ]
  },
  {
   "cell_type": "code",
   "execution_count": null,
   "id": "17be3eb2-87e9-48c6-96e4-bab7fe14bc9c",
   "metadata": {},
   "outputs": [],
   "source": []
  }
 ],
 "metadata": {
  "kernelspec": {
   "display_name": "Python 3 (ipykernel)",
   "language": "python",
   "name": "python3"
  },
  "language_info": {
   "codemirror_mode": {
    "name": "ipython",
    "version": 3
   },
   "file_extension": ".py",
   "mimetype": "text/x-python",
   "name": "python",
   "nbconvert_exporter": "python",
   "pygments_lexer": "ipython3",
   "version": "3.11.9"
  }
 },
 "nbformat": 4,
 "nbformat_minor": 5
}
