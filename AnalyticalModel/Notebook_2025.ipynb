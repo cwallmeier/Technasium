{
 "cells": [
  {
   "cell_type": "code",
   "id": "9f13b09d-b022-4aa5-beba-ddc672874a7c",
   "metadata": {
    "ExecuteTime": {
     "end_time": "2025-09-15T12:51:09.055972Z",
     "start_time": "2025-09-15T12:51:07.533573Z"
    }
   },
   "source": [
    "# Import standard python packages to handle maths and graphics\n",
    "import numpy as np\n",
    "import matplotlib.pyplot as plt\n",
    "\n",
    "# Import file to load the doublet file from .\n",
    "!wget https://github.com/cwallmeier/Technasium/blob/main/AnalyticalModel/doublet.py\n",
    "# Import make_doublet. It will create the digital doublet and do all the maths.\n",
    "from doublet import make_doublet\n",
    "\n",
    "\n",
    "print('Imports completed')"
   ],
   "outputs": [
    {
     "name": "stdout",
     "output_type": "stream",
     "text": [
      "--2025-09-15 14:51:07--  https://github.com/cwallmeier/Technasium/blob/main/AnalyticalModel/doublet.py\r\n",
      "Resolving github.com (github.com)... 140.82.121.4\r\n",
      "Connecting to github.com (github.com)|140.82.121.4|:443... connected.\r\n",
      "HTTP request sent, awaiting response... 200 OK\r\n",
      "Length: unspecified [text/html]\r\n",
      "Saving to: ‘doublet.py.4’\r\n",
      "\r\n",
      "doublet.py.4            [ <=>                ] 198.50K  --.-KB/s    in 0.09s   \r\n",
      "\r\n",
      "2025-09-15 14:51:08 (2.14 MB/s) - ‘doublet.py.4’ saved [203262]\r\n",
      "\r\n",
      "Imports completed\n"
     ]
    }
   ],
   "execution_count": 1
  },
  {
   "metadata": {},
   "cell_type": "markdown",
   "source": [
    "# \"Creating\" the doublet\n",
    "In the next cell, we decribe the subsurface and the geothermal doublet. Then we \"create\" the digital doublet. It is called *my_doublet*.\n",
    "\n",
    "(make_doublet() has some more settings that you can change, if you want to. Look into the file doublet.py to see the whole list.)"
   ],
   "id": "2bce304d93e0c542"
  },
  {
   "metadata": {
    "ExecuteTime": {
     "end_time": "2025-09-15T12:51:09.065676Z",
     "start_time": "2025-09-15T12:51:09.061511Z"
    }
   },
   "cell_type": "code",
   "source": [
    "# Reservoir depth: The depth of the top of the reservoir in m.\n",
    "res_depth = 2300\n",
    "\n",
    "# Reservoir thickness in m.\n",
    "res_thick = 80\n",
    "\n",
    "# porosity in percent\n",
    "porosity=20\n",
    "\n",
    "# Permeability in mDarcy\n",
    "res_perm = 600\n",
    "\n",
    "# well spacing. The distance between injector and producer in m\n",
    "wells_x = 800\n",
    "\n",
    "# injection temperature. the temperature (in deg Celsius) of the cold water that is being re-injected.\n",
    "injT = 32\n",
    "\n",
    "# Give all this input to the function:\n",
    "doublet1 = make_doublet(depth_m=res_depth, thickn_m=res_thick, poro=porosity, perm_mD=res_perm, w_space=wells_x, T_inj=injT)\n",
    "\n",
    "\n",
    "print('Doublet created')"
   ],
   "id": "a1be081f34eff194",
   "outputs": [
    {
     "name": "stdout",
     "output_type": "stream",
     "text": [
      "Doublet created\n"
     ]
    }
   ],
   "execution_count": 2
  },
  {
   "metadata": {},
   "cell_type": "markdown",
   "source": [
    "# Physics\n",
    "Now we will look at the physics of the doublet. We will look at 3 things\n",
    "\n",
    "1. Production temperature.\n",
    "2. Lifetime of the doublet*.\n",
    "3. The power (in Watt or kWh) that is needed to run the system.**\n",
    "\n",
    "\\* \"Lifetime\" describes how long the water that comes out of the production well stays warm. This is usually many years or decades. After that, it cools down slowly because the re-injected water has travelled all the way from the injector to the producer.\n",
    "\n",
    "\\*\\* Most of the time, we talk about how much power (=energy per time) a geothermal doublet produces. But we also have to put in some power to run the pumps. The difference, \"power_out - power_in\" is how much we actually got."
   ],
   "id": "dd6044fd66bc0dd8"
  },
  {
   "cell_type": "code",
   "id": "1a7654f4-9d46-477f-bcd8-2fd132930dee",
   "metadata": {
    "ExecuteTime": {
     "end_time": "2025-09-15T12:51:09.122337Z",
     "start_time": "2025-09-15T12:51:09.117463Z"
    }
   },
   "source": [
    "# Production temperature\n",
    "Temp_prod = doublet1.T_prod\n",
    "print('T_out: %s °C' % round(Temp_prod, 2))"
   ],
   "outputs": [
    {
     "name": "stdout",
     "output_type": "stream",
     "text": [
      "T_out: 80.2 °C\n"
     ]
    }
   ],
   "execution_count": 3
  },
  {
   "metadata": {
    "ExecuteTime": {
     "end_time": "2025-09-15T12:51:09.180115Z",
     "start_time": "2025-09-15T12:51:09.174651Z"
    }
   },
   "cell_type": "code",
   "source": [
    "# time of thermal breakthrough\n",
    "time_breakth = doublet1.t_breakthrough()\n",
    "print('Time of thermal breakthrough: %s years' % round(time_breakth, 2))"
   ],
   "id": "f5e869ef191153f",
   "outputs": [
    {
     "name": "stdout",
     "output_type": "stream",
     "text": [
      "Time of thermal breakthrough: 19.59 years\n"
     ]
    }
   ],
   "execution_count": 4
  },
  {
   "metadata": {
    "ExecuteTime": {
     "end_time": "2025-09-15T12:51:09.234306Z",
     "start_time": "2025-09-15T12:51:09.230959Z"
    }
   },
   "cell_type": "code",
   "source": [
    "# Power\n",
    "\n",
    "# 1) How much power do we generate?\n",
    "p_out = doublet1.p_doublet()\n",
    "print('Power produced by the doublet: %s MW'  %round(p_out, 2))\n",
    "\n",
    "# 2) how much power is needed to run the pumps?\n",
    "p_in = doublet1.p_pumps()\n",
    "print('Power consumed by the doublet: %s MW' %round(p_in, 2))\n",
    "\n",
    "# 3) The difference:\n",
    "p_net = p_out - p_in\n",
    "print('Net power produced: %s MW' %round(p_net, 2))"
   ],
   "id": "f1922640d836fced",
   "outputs": [
    {
     "name": "stdout",
     "output_type": "stream",
     "text": [
      "Power produced by the doublet: 11.19 MW\n",
      "Power consumed by the doublet: 0.18 MW\n",
      "Net power produced: 11.02 MW\n"
     ]
    }
   ],
   "execution_count": 5
  },
  {
   "metadata": {},
   "cell_type": "markdown",
   "source": [
    "### The other files in this directory\n",
    "- *doublet.py* contains the equations used in this notebook.\n",
    "  - you can do this entire exercise without looking into *doublet.py*\n",
    "  - but feel free to open it and explore\n",
    "\n",
    "### Problems?\n",
    "- if you changed some numbers, but the result does not change: --> Look for the option to *Restart Kernel*\n",
    "\n",
    "\n"
   ],
   "id": "7339b2c9809ea732"
  }
 ],
 "metadata": {
  "kernelspec": {
   "display_name": "Python 3 (ipykernel)",
   "language": "python",
   "name": "python3"
  },
  "language_info": {
   "codemirror_mode": {
    "name": "ipython",
    "version": 3
   },
   "file_extension": ".py",
   "mimetype": "text/x-python",
   "name": "python",
   "nbconvert_exporter": "python",
   "pygments_lexer": "ipython3",
   "version": "3.11.9"
  }
 },
 "nbformat": 4,
 "nbformat_minor": 5
}
