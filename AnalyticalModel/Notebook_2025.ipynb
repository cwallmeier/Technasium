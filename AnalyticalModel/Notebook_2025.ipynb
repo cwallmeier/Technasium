{
 "cells": [
  {
   "cell_type": "code",
   "execution_count": 14,
   "id": "d3e4124c",
   "metadata": {},
   "outputs": [],
   "source": [
    "# Setup for Colab: clone repo and install dependencies\n",
    "import sys\n",
    "if 'google.colab' in sys.modules:\n",
    "    !rm -rf your-repo   # remove old copy\n",
    "    !git clone https://github.com/cwallmeier/Technasium/tree/main/AnalyticalModel.git\n",
    "    !pip install -r requirements.txt"
   ]
  },
  {
   "cell_type": "code",
   "execution_count": 15,
   "id": "9f13b09d-b022-4aa5-beba-ddc672874a7c",
   "metadata": {
    "ExecuteTime": {
     "end_time": "2025-09-15T12:51:09.055972Z",
     "start_time": "2025-09-15T12:51:07.533573Z"
    }
   },
   "outputs": [
    {
     "name": "stdout",
     "output_type": "stream",
     "text": [
      "Imports completed\n"
     ]
    }
   ],
   "source": [
    "# Import standard python packages to handle maths and graphics\n",
    "import numpy as np\n",
    "import matplotlib.pyplot as plt\n",
    "import pandas as pd\n",
    "from CoolProp.CoolProp import PropsSI\n",
    "\n",
    "print('Imports completed')"
   ]
  },
  {
   "cell_type": "code",
   "execution_count": 16,
   "id": "bbf8361f",
   "metadata": {},
   "outputs": [],
   "source": [
    "{\n",
    "    \"tags\": [\n",
    "        \"hide-cell\",\n",
    "    ]\n",
    "}\n",
    "\n",
    "\"\"\"\n",
    "Created on Mon Feb 13 15:28:23 2023\n",
    "\n",
    "@author: adaniilidis, cwallmeier\n",
    "\"\"\"\n",
    "\n",
    "import pandas as pd\n",
    "import numpy as np\n",
    "from CoolProp.CoolProp import PropsSI\n",
    "\n",
    "\n",
    "class make_doublet():\n",
    "\n",
    "    def __init__(self,\n",
    "                 # Input parameters Geometry\n",
    "                 depth_m=2283.33334,  # top reservoir depth in meters\n",
    "                 thickn_m=100,  # reservoir thickness in meters\n",
    "\n",
    "                 # Input parameters rock properties\n",
    "                 poro=25,  # reservoir posority in percent\n",
    "                 perm_mD=300,  # reservoir permeability mD\n",
    "                 rho_rock=2300,  # rock density kg/m3\n",
    "                 Cp_rock=1,  # specific heat capacity rock kJ/(kgK)\n",
    "\n",
    "                 # Input parameters fluid properties\n",
    "                 rho_fluid=1000,  # fluid density kg/m3\n",
    "                 Cp_fluid=4.180,  # specific heat capacity fluid kJ/(kgK)\n",
    "\n",
    "                 # Input parameters pT\n",
    "                 T_surf=10,  # refrence temperature at surface (degC)\n",
    "                 T_grad=30,  # temperature gradient (degC/km)\n",
    "                 p_surf=101325,  # reference pressure at surface (Pa)\n",
    "                 p_grad=9792100,  # pressure gradient (Pa/km)\n",
    "\n",
    "                 # Input parameters wells\n",
    "                 q_m3_h=200,  # volume flow rate m3/h\n",
    "                 w_space=1200,   # well spacing in meters\n",
    "                 w_diam=0.2032,  # well diameter in meters\n",
    "                 T_inj=30,  # injection temperature degC\n",
    "\n",
    "                 # Input parameters economic\n",
    "                 pump_eta=0.5,  #\n",
    "                 ):\n",
    "        # Input parameters Geometry\n",
    "        self.r_d = depth_m\n",
    "        self.r_h = thickn_m\n",
    "\n",
    "        # Input parameters rock properties\n",
    "        self.poro = poro / 100\n",
    "        self.rho_rock = rho_rock\n",
    "        self.Cp_rock = Cp_rock\n",
    "        self.perm_mD = perm_mD\n",
    "        self.perm_m2 = self.perm_mD * 9.8692326671601e-13 * 1e-3  # reservoir permeability in m2\n",
    "\n",
    "        # Input parameters fluid properties\n",
    "        self.rho_fluid = rho_fluid\n",
    "        self.Cp_fluid = Cp_fluid\n",
    "\n",
    "        # Input parameters pT\n",
    "        self.T_ref = T_surf\n",
    "        self.T_grad = T_grad\n",
    "        self.p_ref = p_surf\n",
    "        self.p_grad = p_grad\n",
    "\n",
    "        # Input parameters wells\n",
    "        self.q_m3_h = q_m3_h\n",
    "        self.q_m3_s = q_m3_h / 3600  # seconds\n",
    "        self.w_space = w_space\n",
    "        self.w_diam = w_diam\n",
    "        self.T_inj = T_inj\n",
    "        self.p_prod = self.p_ref + ((self.r_d + self.r_h / 2) * 1e-3 * self.p_grad)  # undisturbed p at reservoir depth\n",
    "        self.T_prod = self.T_ref + ((self.r_d + self.r_h / 2) * 1e-3 * self.T_grad)  # production temperature degC\n",
    "        self.mu_0 = PropsSI('viscosity', 'T', self.T_prod + 273.15, 'P', self.p_prod, 'Water')\n",
    "        self.mu_inj = PropsSI('viscosity', 'T', self.T_inj + 273.15, 'P', self.p_prod, 'Water')\n",
    "\n",
    "        # Input parameters economic\n",
    "        self.pump_eta = pump_eta\n",
    "\n",
    "    def lmbda(self):\n",
    "        mobility_lambda = self.poro * self.rho_fluid * self.Cp_fluid / (\n",
    "                (1 - self.poro) * self.rho_rock * self.Cp_rock + self.rho_fluid * self.Cp_fluid * self.poro)\n",
    "        return mobility_lambda\n",
    "\n",
    "    def mu(self, r):\n",
    "        \"\"\"\n",
    "        :param r: position along doublet-line in m, measured from injector towards producer\n",
    "        :return: viscosity in Pas at that position\n",
    "        \"\"\"\n",
    "        if r < 0:\n",
    "            mu = self.mu_inj\n",
    "        elif r > self.w_space:\n",
    "            mu = self.mu_0\n",
    "        else:\n",
    "            ratio = r / self.w_space\n",
    "            mu = self.mu_inj * (1 - ratio) + self.mu_0 * ratio\n",
    "        return mu\n",
    "\n",
    "    def dp_wells(self):\n",
    "\n",
    "        c_inj = self.mu_inj / self.perm_m2 * self.q_m3_s / (2 * np.pi * self.r_h)\n",
    "        c_prd = self.mu_0 / self.perm_m2 * self.q_m3_s / (2 * np.pi * self.r_h)\n",
    "\n",
    "        self.dp_MPa = np.log((self.w_space - self.w_diam / 2) / self.w_diam / 2) * (c_inj + c_prd) * 1e-6\n",
    "\n",
    "        return self.dp_MPa\n",
    "\n",
    "    def t_breakthrough(self):\n",
    "        \"\"\"\n",
    "        :return: arrival time of cold front at producer well\n",
    "        \"\"\"\n",
    "        self.t_cold_yrs = (self.poro / self.lmbda() *\n",
    "                           (2 * np.pi * self.r_h) / self.q_m3_h * self.w_space ** 2 / 6) / (365 * 24)\n",
    "        return self.t_cold_yrs\n",
    "\n",
    "    def p_pumps(self):\n",
    "        self.p_pumps_MW = self.dp_wells() * self.q_m3_s / self.pump_eta\n",
    "        return self.p_pumps_MW\n",
    "\n",
    "    def p_doublet(self):\n",
    "        \"\"\" power produced by doublet in MW \"\"\"\n",
    "        self.P_doublet_kW = self.q_m3_s * self.rho_fluid * self.Cp_fluid * (self.T_prod - self.T_inj)\n",
    "        self.P_doublet_MW = self.P_doublet_kW * 1e-3\n",
    "\n",
    "        return self.P_doublet_MW\n"
   ]
  },
  {
   "cell_type": "markdown",
   "id": "2bce304d93e0c542",
   "metadata": {},
   "source": [
    "# \"Creating\" the doublet\n",
    "In the next cell, we decribe the subsurface and the geothermal doublet. Then we \"create\" the digital doublet. It is called *my_doublet*.\n",
    "\n",
    "(make_doublet() has some more settings that you can change, if you want to. Look into the file doublet.py to see the whole list.)"
   ]
  },
  {
   "cell_type": "code",
   "execution_count": 17,
   "id": "a1be081f34eff194",
   "metadata": {
    "ExecuteTime": {
     "end_time": "2025-09-15T12:51:09.065676Z",
     "start_time": "2025-09-15T12:51:09.061511Z"
    }
   },
   "outputs": [
    {
     "name": "stdout",
     "output_type": "stream",
     "text": [
      "Doublet created\n"
     ]
    }
   ],
   "source": [
    "# Reservoir depth: The depth of the top of the reservoir in m.\n",
    "res_depth = 2300\n",
    "\n",
    "# Reservoir thickness in m.\n",
    "res_thick = 80\n",
    "\n",
    "# porosity in percent\n",
    "porosity=20\n",
    "\n",
    "# Permeability in mDarcy\n",
    "res_perm = 600\n",
    "\n",
    "# well spacing. The distance between injector and producer in m\n",
    "wells_x = 800\n",
    "\n",
    "# injection temperature. the temperature (in deg Celsius) of the cold water that is being re-injected.\n",
    "injT = 32\n",
    "\n",
    "# Give all this input to the function:\n",
    "doublet1 = make_doublet(depth_m=res_depth, thickn_m=res_thick, poro=porosity, perm_mD=res_perm, w_space=wells_x, T_inj=injT)\n",
    "\n",
    "\n",
    "print('Doublet created')"
   ]
  },
  {
   "cell_type": "markdown",
   "id": "dd6044fd66bc0dd8",
   "metadata": {},
   "source": [
    "# Physics\n",
    "Now we will look at the physics of the doublet. We will look at 3 things\n",
    "\n",
    "1. Production temperature.\n",
    "2. Lifetime of the doublet*.\n",
    "3. The power (in Watt or kWh) that is needed to run the system.**\n",
    "\n",
    "\\* \"Lifetime\" describes how long the water that comes out of the production well stays warm. This is usually many years or decades. After that, it cools down slowly because the re-injected water has travelled all the way from the injector to the producer.\n",
    "\n",
    "\\*\\* Most of the time, we talk about how much power (=energy per time) a geothermal doublet produces. But we also have to put in some power to run the pumps. The difference, \"power_out - power_in\" is how much we actually got."
   ]
  },
  {
   "cell_type": "code",
   "execution_count": 18,
   "id": "1a7654f4-9d46-477f-bcd8-2fd132930dee",
   "metadata": {
    "ExecuteTime": {
     "end_time": "2025-09-15T12:51:09.122337Z",
     "start_time": "2025-09-15T12:51:09.117463Z"
    }
   },
   "outputs": [
    {
     "name": "stdout",
     "output_type": "stream",
     "text": [
      "T_out: 80.2 °C\n"
     ]
    }
   ],
   "source": [
    "# Production temperature\n",
    "Temp_prod = doublet1.T_prod\n",
    "print('T_out: %s °C' % round(Temp_prod, 2))"
   ]
  },
  {
   "cell_type": "code",
   "execution_count": 19,
   "id": "f5e869ef191153f",
   "metadata": {
    "ExecuteTime": {
     "end_time": "2025-09-15T12:51:09.180115Z",
     "start_time": "2025-09-15T12:51:09.174651Z"
    }
   },
   "outputs": [
    {
     "name": "stdout",
     "output_type": "stream",
     "text": [
      "Time of thermal breakthrough: 19.59 years\n"
     ]
    }
   ],
   "source": [
    "# time of thermal breakthrough\n",
    "time_breakth = doublet1.t_breakthrough()\n",
    "print('Time of thermal breakthrough: %s years' % round(time_breakth, 2))"
   ]
  },
  {
   "cell_type": "code",
   "execution_count": 20,
   "id": "f1922640d836fced",
   "metadata": {
    "ExecuteTime": {
     "end_time": "2025-09-15T12:51:09.234306Z",
     "start_time": "2025-09-15T12:51:09.230959Z"
    }
   },
   "outputs": [
    {
     "name": "stdout",
     "output_type": "stream",
     "text": [
      "Power produced by the doublet: 11.19 MW\n",
      "Power consumed by the doublet: 0.18 MW\n",
      "Net power produced: 11.02 MW\n"
     ]
    }
   ],
   "source": [
    "# Power\n",
    "\n",
    "# 1) How much power do we generate?\n",
    "p_out = doublet1.p_doublet()\n",
    "print('Power produced by the doublet: %s MW'  %round(p_out, 2))\n",
    "\n",
    "# 2) how much power is needed to run the pumps?\n",
    "p_in = doublet1.p_pumps()\n",
    "print('Power consumed by the doublet: %s MW' %round(p_in, 2))\n",
    "\n",
    "# 3) The difference:\n",
    "p_net = p_out - p_in\n",
    "print('Net power produced: %s MW' %round(p_net, 2))"
   ]
  },
  {
   "cell_type": "markdown",
   "id": "7339b2c9809ea732",
   "metadata": {},
   "source": [
    "### The other files in this directory\n",
    "- *doublet.py* contains the equations used in this notebook.\n",
    "  - you can do this entire exercise without looking into *doublet.py*\n",
    "  - but feel free to open it and explore\n",
    "\n",
    "### Problems?\n",
    "- if you changed some numbers, but the result does not change: --> Look for the option to *Restart Kernel*\n",
    "\n",
    "\n"
   ]
  }
 ],
 "metadata": {
  "kernelspec": {
   "display_name": "test",
   "language": "python",
   "name": "python3"
  },
  "language_info": {
   "codemirror_mode": {
    "name": "ipython",
    "version": 3
   },
   "file_extension": ".py",
   "mimetype": "text/x-python",
   "name": "python",
   "nbconvert_exporter": "python",
   "pygments_lexer": "ipython3",
   "version": "3.11.13"
  }
 },
 "nbformat": 4,
 "nbformat_minor": 5
}
