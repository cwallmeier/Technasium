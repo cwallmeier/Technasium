{
 "cells": [
  {
   "cell_type": "code",
   "id": "9f13b09d-b022-4aa5-beba-ddc672874a7c",
   "metadata": {},
   "source": [
    "# Import standard python packages to handle maths and graphics\n",
    "import numpy as np\n",
    "import matplotlib.pyplot as plt\n",
    "\n",
    "# Import geoth_doub. It will do all the maths.\n",
    "from doublet import geoth_doub\n",
    "\n",
    "\n",
    "print('Imports completed')"
   ],
   "outputs": [],
   "execution_count": null
  },
  {
   "metadata": {},
   "cell_type": "markdown",
   "source": [
    "# \"Creating\" the doublet\n",
    "In the next cell, we decribe the subsurface and the geothermal doublet. Then we \"create\" the digital doublet. It is called *my_doublet*.\n",
    "\n",
    "(geoth_doub() has some more settings that you can change, if you want to. Look into doublet.py to see the whole list.)"
   ],
   "id": "2bce304d93e0c542"
  },
  {
   "metadata": {},
   "cell_type": "code",
   "outputs": [],
   "execution_count": null,
   "source": [
    "# Reservoir depth: The depth of the top of the reservoir in m.\n",
    "res_depth = 2300\n",
    "\n",
    "# Reservoir thickness in m.\n",
    "res_thick = 80\n",
    "\n",
    "# Permeability in mDarcy\n",
    "res_perm = 600\n",
    "\n",
    "# well spacing. The distance between injector and producer in m\n",
    "wells_x = 800\n",
    "\n",
    "# injection temperature. the temperature (in deg Celsius) of the cold water that is being re-injected.\n",
    "injT = 32\n",
    "\n",
    "# Give all this input to the function:\n",
    "doublet1 = geoth_doub(depth_m=res_depth, thickn_m=res_thick, perm_mD=res_perm, w_space=wells_x, T_inj=injT)\n",
    "\n",
    "\n",
    "print('Doublet created')"
   ],
   "id": "a1be081f34eff194"
  },
  {
   "metadata": {},
   "cell_type": "markdown",
   "source": [
    "# Phyisics\n",
    "Now we will look at the physics of the doublet. We will look at 3 things\n",
    "\n",
    "1. Production temperature.\n",
    "2. Lifetime of the doublet*.\n",
    "3. The power (in Watt or kWh) that is needed to run the system.**\n",
    "\n",
    "\\* \"Lifetime\" describes how long the water that comes out of the production well stays warm. This is usually many years or decades. After that, it cools down slowly because the re-injected water has travelled all the way from the injector to the producer.\n",
    "\n",
    "\\*\\* Most of the time, we talk about how much power (=energy per time) a geothermal doublet produces. But we also have to put in some power to run the pumps. The difference, \"power_out - power_in\" is how much we actually got."
   ],
   "id": "dd6044fd66bc0dd8"
  },
  {
   "cell_type": "code",
   "id": "1a7654f4-9d46-477f-bcd8-2fd132930dee",
   "metadata": {},
   "source": [
    "# Production temperature\n",
    "Temp_prod = doublet1.T_prod\n",
    "print('T_out: %s °C' % round(Temp_prod, 2))"
   ],
   "outputs": [],
   "execution_count": null
  },
  {
   "metadata": {},
   "cell_type": "code",
   "source": [
    "# time of thermal breakthrough\n",
    "time_breakth = doublet1.t_breakthrough()\n",
    "print('Time of thermal breakthrough: %s years' % round(time_breakth, 2))"
   ],
   "id": "f5e869ef191153f",
   "outputs": [],
   "execution_count": null
  },
  {
   "metadata": {},
   "cell_type": "code",
   "source": [
    "# Power\n",
    "\n",
    "# 1) How much power do we generate?\n",
    "p_out = doublet1.p_doublet()\n",
    "print('Power produced by the doublet: %s MW'  %round(p_out, 2))\n",
    "\n",
    "# 2) how much power is needed to run the pumps?\n",
    "p_in = doublet1.p_pumps()\n",
    "print('Power consumed by the doublet: %s MW' %round(p_in, 2))\n",
    "\n",
    "# 3) The difference:\n",
    "p_net = p_out - p_in\n",
    "print('Net power produced: %s MW' %round(p_net, 2))"
   ],
   "id": "f1922640d836fced",
   "outputs": [],
   "execution_count": null
  },
  {
   "cell_type": "markdown",
   "id": "2f73fc19-c2be-43f2-8779-20f4f800d7b4",
   "metadata": {},
   "source": [
    "# Some inspiration\n",
    "The following is some inspiration on how data can be combined to show the relationships between them."
   ]
  },
  {
   "cell_type": "code",
   "id": "e345a87c-622c-4058-a842-ec7a6058c6ea",
   "metadata": {},
   "source": [
    "########### I STILL HAVE TO EDIT THIS ONE BECAUSE PERMEABILITY DOESNT CHANGE ANYTHING :(\n",
    "\n",
    "#  Try different reservoir depth.\n",
    "depths = [1500, 1600, 1700, 1800, 1900, 2000, 2100, 2200,  2300, 2400, 2500]\n",
    "\n",
    "\n",
    "# And different well spacings\n",
    "perms = [10, 400, 500, 600, 700, 800, 900, 1000, 1100, 1200, 1300, 1400, 1500]\n",
    "\n",
    "# injection temperature.\n",
    "injT = 32\n",
    "\n",
    "# Calculate breakthrough time for every combination.\n",
    "all_powers = np.empty((len(depths), len(perms)))\n",
    "\n",
    "# Loop over all combinations and calculate breakthrough time for each\n",
    "for counter_1, d in enumerate(depths):\n",
    "    for counter_2, s in enumerate(perms):\n",
    "        # doublet, using porosity and spacing of this iteration\n",
    "        doublet2 = geoth_doub(depth_m=d, w_space=s, T_inj=injT)\n",
    "        # calculate power\n",
    "        power = doublet2.p_doublet() - doublet2.p_pumps()\n",
    "        # rounnd that value and save it in the array we prepared earlier\n",
    "        all_powers[counter_1, counter_2] = power\n",
    "\n",
    "# A first look at the numbers\n",
    "print('All calculated powers:')\n",
    "print(all_powers)\n",
    "\n",
    "# And a pretty image\n",
    "plot1 = plt.imshow(all_powers)\n",
    "plt.xlabel('permeability in mD')\n",
    "plt.ylabel('depth in m')\n",
    "plt.colorbar(plot1, label='Net power output in MW')"
   ],
   "outputs": [],
   "execution_count": null
  },
  {
   "metadata": {},
   "cell_type": "markdown",
   "source": [
    "### The other files in this directory\n",
    "- *doublet.py* contains the equations used in this notebook.\n",
    "  - you can do this entire exercise without looking into *doublet.py*\n",
    "  - but feel free to open it and explore\n",
    "\n",
    "### Problems?\n",
    "- if you changed some numbers, but the result does not change: --> Right-click into a cell and choose *Restart Kernel*\n",
    "\n",
    "\n"
   ],
   "id": "7339b2c9809ea732"
  }
 ],
 "metadata": {
  "kernelspec": {
   "display_name": "Python 3 (ipykernel)",
   "language": "python",
   "name": "python3"
  },
  "language_info": {
   "codemirror_mode": {
    "name": "ipython",
    "version": 3
   },
   "file_extension": ".py",
   "mimetype": "text/x-python",
   "name": "python",
   "nbconvert_exporter": "python",
   "pygments_lexer": "ipython3",
   "version": "3.11.9"
  }
 },
 "nbformat": 4,
 "nbformat_minor": 5
}
